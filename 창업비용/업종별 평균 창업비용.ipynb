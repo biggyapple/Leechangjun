{
 "cells": [
  {
   "cell_type": "code",
   "execution_count": 186,
   "id": "ab360071",
   "metadata": {
    "scrolled": true
   },
   "outputs": [
    {
     "data": {
      "text/html": [
       "<div>\n",
       "<style scoped>\n",
       "    .dataframe tbody tr th:only-of-type {\n",
       "        vertical-align: middle;\n",
       "    }\n",
       "\n",
       "    .dataframe tbody tr th {\n",
       "        vertical-align: top;\n",
       "    }\n",
       "\n",
       "    .dataframe thead th {\n",
       "        text-align: right;\n",
       "    }\n",
       "</style>\n",
       "<table border=\"1\" class=\"dataframe\">\n",
       "  <thead>\n",
       "    <tr style=\"text-align: right;\">\n",
       "      <th></th>\n",
       "      <th>산업</th>\n",
       "      <th>사업체수 (개)</th>\n",
       "      <th>총 창업비용 (백만원)</th>\n",
       "    </tr>\n",
       "  </thead>\n",
       "  <tbody>\n",
       "    <tr>\n",
       "      <th>2</th>\n",
       "      <td>소매</td>\n",
       "      <td>216607</td>\n",
       "      <td>19934336</td>\n",
       "    </tr>\n",
       "    <tr>\n",
       "      <th>3</th>\n",
       "      <td>숙박</td>\n",
       "      <td>13963</td>\n",
       "      <td>5829243</td>\n",
       "    </tr>\n",
       "    <tr>\n",
       "      <th>4</th>\n",
       "      <td>식음료</td>\n",
       "      <td>287679</td>\n",
       "      <td>25828739</td>\n",
       "    </tr>\n",
       "    <tr>\n",
       "      <th>5</th>\n",
       "      <td>문화/레져</td>\n",
       "      <td>39917</td>\n",
       "      <td>5721573</td>\n",
       "    </tr>\n",
       "  </tbody>\n",
       "</table>\n",
       "</div>"
      ],
      "text/plain": [
       "      산업 사업체수 (개) 총 창업비용 (백만원)\n",
       "2     소매   216607     19934336\n",
       "3     숙박    13963      5829243\n",
       "4    식음료   287679     25828739\n",
       "5  문화/레져    39917      5721573"
      ]
     },
     "execution_count": 186,
     "metadata": {},
     "output_type": "execute_result"
    }
   ],
   "source": [
    "import pandas as pd\n",
    "import numpy as np\n",
    "\n",
    "cost=pd.read_csv('창업비용.csv')\n",
    "cost1=cost.drop(['시도별(1)','산업별(1)','2019.2','2019.3','2019.4','2019.5','2019.6','2019.7','2019.8','2019.9','2019.10','2019.2'],axis=1)\n",
    "cost2=cost1.rename(columns={'2019':'사업체수 (개)','2019.1':'총 창업비용 (백만원)','산업별(2)':'산업'})\n",
    "cost3=cost2.drop(index=[0,1,6,7],axis=0)\n",
    "cost4=cost3.replace(['소매업; 자동차제외'],'소매')\n",
    "cost5=cost4.replace(['숙박업'],'숙박')\n",
    "cost6=cost5.replace(['음식점 및 주점업'],'식음료')\n",
    "cost7=cost6.replace(['소계'],'문화/레져')\n",
    "cost7\n",
    "#cost8=cost7['사업체수 (개)'].div(cost7['총 창업비용 (백만원)'])\n",
    "#cost7['평균 창업비용'] = cost7['사업체수 (개)'] / cost7['총 창업비용 (백만원)']"
   ]
  },
  {
   "cell_type": "code",
   "execution_count": 197,
   "id": "2b5fffec",
   "metadata": {},
   "outputs": [
    {
     "data": {
      "text/html": [
       "<div>\n",
       "<style scoped>\n",
       "    .dataframe tbody tr th:only-of-type {\n",
       "        vertical-align: middle;\n",
       "    }\n",
       "\n",
       "    .dataframe tbody tr th {\n",
       "        vertical-align: top;\n",
       "    }\n",
       "\n",
       "    .dataframe thead th {\n",
       "        text-align: right;\n",
       "    }\n",
       "</style>\n",
       "<table border=\"1\" class=\"dataframe\">\n",
       "  <thead>\n",
       "    <tr style=\"text-align: right;\">\n",
       "      <th></th>\n",
       "      <th>업종명</th>\n",
       "      <th>평균 창업비용(원)</th>\n",
       "    </tr>\n",
       "  </thead>\n",
       "  <tbody>\n",
       "    <tr>\n",
       "      <th>0</th>\n",
       "      <td>소매</td>\n",
       "      <td>92000000</td>\n",
       "    </tr>\n",
       "    <tr>\n",
       "      <th>1</th>\n",
       "      <td>숙박</td>\n",
       "      <td>417000000</td>\n",
       "    </tr>\n",
       "    <tr>\n",
       "      <th>2</th>\n",
       "      <td>식음료</td>\n",
       "      <td>89000000</td>\n",
       "    </tr>\n",
       "    <tr>\n",
       "      <th>3</th>\n",
       "      <td>문화/레져</td>\n",
       "      <td>143000000</td>\n",
       "    </tr>\n",
       "  </tbody>\n",
       "</table>\n",
       "</div>"
      ],
      "text/plain": [
       "     업종명  평균 창업비용(원)\n",
       "0     소매    92000000\n",
       "1     숙박   417000000\n",
       "2    식음료    89000000\n",
       "3  문화/레져   143000000"
      ]
     },
     "execution_count": 197,
     "metadata": {},
     "output_type": "execute_result"
    }
   ],
   "source": [
    "a = int(cost7.values[0,2]) / int(cost7.values[0,1]) \n",
    "avr_sales=int(a) * 1000000\n",
    "b= int(cost7.values[1,2]) / int(cost7.values[1,1]) \n",
    "avr_hotels=int(b) * 1000000\n",
    "c = int(cost7.values[2,2]) / int(cost7.values[2,1]) \n",
    "avr_foods=int(c) * 1000000\n",
    "d = int(cost7.values[3,2]) / int(cost7.values[3,1]) \n",
    "avr_culture=int(d) * 1000000\n",
    "AVR=pd.DataFrame({'업종명':['소매','숙박','식음료','문화/레져'], '평균 창업비용(원)':[avr_sales,avr_hotels,avr_foods,avr_culture]})\n",
    "AVR"
   ]
  },
  {
   "cell_type": "code",
   "execution_count": 198,
   "id": "3716a981",
   "metadata": {},
   "outputs": [],
   "source": [
    "AVR.to_csv('평균 창업비용.csv')"
   ]
  },
  {
   "cell_type": "code",
   "execution_count": null,
   "id": "87d30995",
   "metadata": {},
   "outputs": [],
   "source": []
  }
 ],
 "metadata": {
  "kernelspec": {
   "display_name": "Python 3",
   "language": "python",
   "name": "python3"
  },
  "language_info": {
   "codemirror_mode": {
    "name": "ipython",
    "version": 3
   },
   "file_extension": ".py",
   "mimetype": "text/x-python",
   "name": "python",
   "nbconvert_exporter": "python",
   "pygments_lexer": "ipython3",
   "version": "3.8.8"
  }
 },
 "nbformat": 4,
 "nbformat_minor": 5
}
