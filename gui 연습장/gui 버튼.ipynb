{
 "cells": [
  {
   "cell_type": "code",
   "execution_count": 1,
   "id": "ecb6fb28",
   "metadata": {},
   "outputs": [],
   "source": [
    "from tkinter import *\n",
    "\n",
    "root = Tk()\n",
    "root2 =Tk()\n",
    "#root.geometry('500x300') # 창 크기 설정\n",
    "root.geometry('500x300+100+100') # 창 열리는 좌표 설정 (100, 100)\n",
    "root.title('Big apple') # 제목 생성\n",
    "\n",
    "root. resizable(False, False) # x(너비), y(높이) 값 변경 불가 (창 크기 변경 불가)\n",
    "\n",
    "#위젯 1 - 버튼\n",
    "btn1 = Button(root, text='버튼1') # root 창에 button'버튼1' 생성 \n",
    "btn1.pack() # pack - 위젯 배치 \n",
    "\n",
    "btn2 = Button(root, padx=5, pady=10, text='버튼2') #버튼 크기 조절 padx , pady \n",
    "btn2.pack()\n",
    "\n",
    "btn3 = Button(root, width=10, height=3, text='버튼4') #버튼 크기 조절 width , height\n",
    "btn3.pack()\n",
    "\n",
    "btn4= Button(root, fg='red', bg='yellow', text='버튼5') #fg:폰트 컬러 / bg:배경 컬러\n",
    "btn4.pack( )\n",
    "\n",
    "#photo=PhotoImage(file='C:/Users/82103/Pictures/star.png') # 이미지 저장 \n",
    "#btn5= Button(root, image=photo)\n",
    "#btn5.pack()\n",
    "\n",
    "def btncmd():#root2 창을 여는 cmd 정의 \n",
    "    root2.mainloop()\n",
    "    \n",
    "def quitloop():#root2 창을 닫는 cmd wjddml\n",
    "    root2.destroy()\n",
    "\n",
    "\n",
    "root2.geometry('300x300+600+100')\n",
    "root2.title=('bigbig apple')\n",
    "\n",
    "btn7=Button(root, text='동작 하는 버튼', command=btncmd) # root2 창을 염\n",
    "btn7.pack()\n",
    "\n",
    "btn8=Button(root2,text='확인',command=quitloop) #root2 창을 닫음\n",
    "btn8.pack() \n",
    "\n",
    "root.mainloop() # 창 열기\n",
    "\n"
   ]
  },
  {
   "cell_type": "code",
   "execution_count": null,
   "id": "628194b5",
   "metadata": {},
   "outputs": [],
   "source": []
  }
 ],
 "metadata": {
  "kernelspec": {
   "display_name": "Python 3",
   "language": "python",
   "name": "python3"
  },
  "language_info": {
   "codemirror_mode": {
    "name": "ipython",
    "version": 3
   },
   "file_extension": ".py",
   "mimetype": "text/x-python",
   "name": "python",
   "nbconvert_exporter": "python",
   "pygments_lexer": "ipython3",
   "version": "3.8.8"
  }
 },
 "nbformat": 4,
 "nbformat_minor": 5
}
