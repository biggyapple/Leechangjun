{
 "cells": [
  {
   "cell_type": "code",
   "execution_count": 2,
   "id": "656f7814",
   "metadata": {},
   "outputs": [],
   "source": [
    "from tkinter import *\n",
    "\n",
    "root=Tk()\n",
    "root.title('label test')\n",
    "root.geometry('500x500+100+100')\n",
    "  \n",
    "ltb=Listbox(root,selectmode='extended', height=0) # selectmode= extended , single\n",
    "ltb.insert(0,'사과')\n",
    "ltb.insert(1,'수박')\n",
    "ltb.pack()\n",
    "\n",
    "root.mainloop() # 창 열기"
   ]
  }
 ],
 "metadata": {
  "kernelspec": {
   "display_name": "Python 3",
   "language": "python",
   "name": "python3"
  },
  "language_info": {
   "codemirror_mode": {
    "name": "ipython",
    "version": 3
   },
   "file_extension": ".py",
   "mimetype": "text/x-python",
   "name": "python",
   "nbconvert_exporter": "python",
   "pygments_lexer": "ipython3",
   "version": "3.8.8"
  }
 },
 "nbformat": 4,
 "nbformat_minor": 5
}
