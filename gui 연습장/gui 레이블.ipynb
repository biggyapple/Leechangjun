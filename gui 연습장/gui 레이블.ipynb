{
 "cells": [
  {
   "cell_type": "code",
   "execution_count": 11,
   "id": "bc68534a",
   "metadata": {},
   "outputs": [],
   "source": [
    "from tkinter import *\n",
    "\n",
    "root=Tk()\n",
    "root.title('label test')\n",
    "root.geometry('500x500+100+100')\n",
    "\n",
    "label1= Label(root,text='안녕하세요')\n",
    "label1.pack()\n",
    "\n",
    "def change():\n",
    "    label1.config(text='또  만나요') # label1 내의 텍스트 변환 \n",
    "\n",
    "btn1=Button(root,text='확인',command=change)\n",
    "btn1.pack()\n",
    "\n",
    "root.mainloop() # 창 열기\n"
   ]
  }
 ],
 "metadata": {
  "kernelspec": {
   "display_name": "Python 3",
   "language": "python",
   "name": "python3"
  },
  "language_info": {
   "codemirror_mode": {
    "name": "ipython",
    "version": 3
   },
   "file_extension": ".py",
   "mimetype": "text/x-python",
   "name": "python",
   "nbconvert_exporter": "python",
   "pygments_lexer": "ipython3",
   "version": "3.8.8"
  }
 },
 "nbformat": 4,
 "nbformat_minor": 5
}
