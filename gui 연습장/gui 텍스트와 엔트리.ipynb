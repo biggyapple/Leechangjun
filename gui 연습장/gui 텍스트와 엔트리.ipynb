{
 "cells": [
  {
   "cell_type": "code",
   "execution_count": 4,
   "id": "f6326b33",
   "metadata": {},
   "outputs": [
    {
     "name": "stdout",
     "output_type": "stream",
     "text": [
      "글자를 입력하세요\n",
      "\n",
      "한줄 만 입력하세요\n"
     ]
    }
   ],
   "source": [
    "from tkinter import *\n",
    "\n",
    "root=Tk()\n",
    "root.title('label test')\n",
    "root.geometry('500x500+100+100')\n",
    "\n",
    "txt= Text(root, width=30 , height='5') # 텍스트 창 생성\n",
    "txt.pack()\n",
    "\n",
    "txt.insert(END, '글자를 입력하세요')\n",
    "\n",
    "e= Entry(root, width=30)\n",
    "e.pack()\n",
    "e.insert(0, '한줄 만 입력하세요')\n",
    "\n",
    "def btncmd():\n",
    "    #내용 입력\n",
    "    print(txt.get('1.0',END)) # index(1,0)에서 부터 END(끝) 까지 가져온다.\n",
    "    print(e.get())\n",
    "    #내용 삭제\n",
    "    txt.delete('1.0',END)\n",
    "    e.delete(0,END)\n",
    "\n",
    "btn1=Button(root,text='확인',command=btncmd)\n",
    "btn1.pack()  \n",
    " \n",
    "\n",
    "root.mainloop() # 창 열기"
   ]
  }
 ],
 "metadata": {
  "kernelspec": {
   "display_name": "Python 3",
   "language": "python",
   "name": "python3"
  },
  "language_info": {
   "codemirror_mode": {
    "name": "ipython",
    "version": 3
   },
   "file_extension": ".py",
   "mimetype": "text/x-python",
   "name": "python",
   "nbconvert_exporter": "python",
   "pygments_lexer": "ipython3",
   "version": "3.8.8"
  }
 },
 "nbformat": 4,
 "nbformat_minor": 5
}
