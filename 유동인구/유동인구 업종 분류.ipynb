{
 "cells": [
  {
   "cell_type": "code",
   "execution_count": 26,
   "id": "0770690e",
   "metadata": {
    "scrolled": true
   },
   "outputs": [
    {
     "data": {
      "text/html": [
       "<div>\n",
       "<style scoped>\n",
       "    .dataframe tbody tr th:only-of-type {\n",
       "        vertical-align: middle;\n",
       "    }\n",
       "\n",
       "    .dataframe tbody tr th {\n",
       "        vertical-align: top;\n",
       "    }\n",
       "\n",
       "    .dataframe thead th {\n",
       "        text-align: right;\n",
       "    }\n",
       "</style>\n",
       "<table border=\"1\" class=\"dataframe\">\n",
       "  <thead>\n",
       "    <tr style=\"text-align: right;\">\n",
       "      <th></th>\n",
       "      <th>년월</th>\n",
       "      <th>시도명</th>\n",
       "      <th>읍면동명</th>\n",
       "      <th>업종명</th>\n",
       "      <th>이용자수</th>\n",
       "      <th>이용금액</th>\n",
       "      <th>총 유동인구</th>\n",
       "      <th>데이터기준일자</th>\n",
       "    </tr>\n",
       "  </thead>\n",
       "  <tbody>\n",
       "    <tr>\n",
       "      <th>0</th>\n",
       "      <td>20-Jan</td>\n",
       "      <td>서귀포시</td>\n",
       "      <td>남원읍</td>\n",
       "      <td>건강보조식품 소매업</td>\n",
       "      <td>10</td>\n",
       "      <td>1475000</td>\n",
       "      <td>1.680200e+07</td>\n",
       "      <td>2020-12-15</td>\n",
       "    </tr>\n",
       "    <tr>\n",
       "      <th>1</th>\n",
       "      <td>20-Jan</td>\n",
       "      <td>서귀포시</td>\n",
       "      <td>남원읍</td>\n",
       "      <td>골프장 운영업</td>\n",
       "      <td>3929</td>\n",
       "      <td>727062477</td>\n",
       "      <td>1.680200e+07</td>\n",
       "      <td>2020-12-15</td>\n",
       "    </tr>\n",
       "    <tr>\n",
       "      <th>2</th>\n",
       "      <td>20-Jan</td>\n",
       "      <td>서귀포시</td>\n",
       "      <td>남원읍</td>\n",
       "      <td>과실 및 채소 소매업</td>\n",
       "      <td>3313</td>\n",
       "      <td>159828593</td>\n",
       "      <td>1.680200e+07</td>\n",
       "      <td>2020-12-15</td>\n",
       "    </tr>\n",
       "    <tr>\n",
       "      <th>3</th>\n",
       "      <td>20-Jan</td>\n",
       "      <td>서귀포시</td>\n",
       "      <td>남원읍</td>\n",
       "      <td>관광 민예품 및 선물용품 소매업</td>\n",
       "      <td>366</td>\n",
       "      <td>6843000</td>\n",
       "      <td>1.680200e+07</td>\n",
       "      <td>2020-12-15</td>\n",
       "    </tr>\n",
       "    <tr>\n",
       "      <th>4</th>\n",
       "      <td>20-Jan</td>\n",
       "      <td>서귀포시</td>\n",
       "      <td>남원읍</td>\n",
       "      <td>그외 기타 종합 소매업</td>\n",
       "      <td>12</td>\n",
       "      <td>5210000</td>\n",
       "      <td>1.680200e+07</td>\n",
       "      <td>2020-12-15</td>\n",
       "    </tr>\n",
       "    <tr>\n",
       "      <th>...</th>\n",
       "      <td>...</td>\n",
       "      <td>...</td>\n",
       "      <td>...</td>\n",
       "      <td>...</td>\n",
       "      <td>...</td>\n",
       "      <td>...</td>\n",
       "      <td>...</td>\n",
       "      <td>...</td>\n",
       "    </tr>\n",
       "    <tr>\n",
       "      <th>14030</th>\n",
       "      <td>20-Dec</td>\n",
       "      <td>서귀포시</td>\n",
       "      <td>중앙동</td>\n",
       "      <td>호텔업</td>\n",
       "      <td>11</td>\n",
       "      <td>2310000</td>\n",
       "      <td>5.040350e+06</td>\n",
       "      <td>2021-07-28</td>\n",
       "    </tr>\n",
       "    <tr>\n",
       "      <th>14031</th>\n",
       "      <td>20-Dec</td>\n",
       "      <td>서귀포시</td>\n",
       "      <td>중앙동</td>\n",
       "      <td>화장품 및 방향제 소매업</td>\n",
       "      <td>782</td>\n",
       "      <td>59603540</td>\n",
       "      <td>5.040350e+06</td>\n",
       "      <td>2021-07-28</td>\n",
       "    </tr>\n",
       "    <tr>\n",
       "      <th>14032</th>\n",
       "      <td>20-Dec</td>\n",
       "      <td>서귀포시</td>\n",
       "      <td>천지동</td>\n",
       "      <td>건강보조식품 소매업</td>\n",
       "      <td>61</td>\n",
       "      <td>8551160</td>\n",
       "      <td>1.012158e+07</td>\n",
       "      <td>2021-07-28</td>\n",
       "    </tr>\n",
       "    <tr>\n",
       "      <th>14033</th>\n",
       "      <td>20-Dec</td>\n",
       "      <td>서귀포시</td>\n",
       "      <td>중앙동</td>\n",
       "      <td>한식 음식점업</td>\n",
       "      <td>25776</td>\n",
       "      <td>1062824272</td>\n",
       "      <td>5.040350e+06</td>\n",
       "      <td>2021-07-28</td>\n",
       "    </tr>\n",
       "    <tr>\n",
       "      <th>14034</th>\n",
       "      <td>20-Dec</td>\n",
       "      <td>서귀포시</td>\n",
       "      <td>천지동</td>\n",
       "      <td>과실 및 채소 소매업</td>\n",
       "      <td>5445</td>\n",
       "      <td>297297345</td>\n",
       "      <td>1.012158e+07</td>\n",
       "      <td>2021-07-28</td>\n",
       "    </tr>\n",
       "  </tbody>\n",
       "</table>\n",
       "<p>14035 rows × 8 columns</p>\n",
       "</div>"
      ],
      "text/plain": [
       "           년월   시도명 읍면동명                업종명   이용자수        이용금액        총 유동인구  \\\n",
       "0      20-Jan  서귀포시  남원읍         건강보조식품 소매업     10     1475000  1.680200e+07   \n",
       "1      20-Jan  서귀포시  남원읍            골프장 운영업   3929   727062477  1.680200e+07   \n",
       "2      20-Jan  서귀포시  남원읍        과실 및 채소 소매업   3313   159828593  1.680200e+07   \n",
       "3      20-Jan  서귀포시  남원읍  관광 민예품 및 선물용품 소매업    366     6843000  1.680200e+07   \n",
       "4      20-Jan  서귀포시  남원읍       그외 기타 종합 소매업     12     5210000  1.680200e+07   \n",
       "...       ...   ...  ...                ...    ...         ...           ...   \n",
       "14030  20-Dec  서귀포시  중앙동                호텔업     11     2310000  5.040350e+06   \n",
       "14031  20-Dec  서귀포시  중앙동      화장품 및 방향제 소매업    782    59603540  5.040350e+06   \n",
       "14032  20-Dec  서귀포시  천지동         건강보조식품 소매업     61     8551160  1.012158e+07   \n",
       "14033  20-Dec  서귀포시  중앙동            한식 음식점업  25776  1062824272  5.040350e+06   \n",
       "14034  20-Dec  서귀포시  천지동        과실 및 채소 소매업   5445   297297345  1.012158e+07   \n",
       "\n",
       "          데이터기준일자  \n",
       "0      2020-12-15  \n",
       "1      2020-12-15  \n",
       "2      2020-12-15  \n",
       "3      2020-12-15  \n",
       "4      2020-12-15  \n",
       "...           ...  \n",
       "14030  2021-07-28  \n",
       "14031  2021-07-28  \n",
       "14032  2021-07-28  \n",
       "14033  2021-07-28  \n",
       "14034  2021-07-28  \n",
       "\n",
       "[14035 rows x 8 columns]"
      ]
     },
     "execution_count": 26,
     "metadata": {},
     "output_type": "execute_result"
    }
   ],
   "source": [
    "%matplotlib inline\n",
    "import pandas as pd               \n",
    "import matplotlib as mpl           \n",
    "import matplotlib.pyplot as plt\n",
    "import numpy as np\n",
    "df1 = pd.read_csv('Udong20.csv')\n",
    "df1"
   ]
  },
  {
   "cell_type": "code",
   "execution_count": 27,
   "id": "b22f9d05",
   "metadata": {},
   "outputs": [],
   "source": [
    "sale1=df1[df1['업종명']=='과실 및 채소 소매업']\n",
    "sale2=sale1.append(df1[df1['업종명']=='관광 민예품'])\n",
    "sale3=sale2.append(df1[df1['업종명']=='수산물 소매업'])\n",
    "sale4=sale3.append(df1[df1['업종명']=='육류 소매업'])\n",
    "sales=sale4.append(df1[df1['업종명']=='빵 및 과자 소매업'])\n",
    "Sales=sales.replace(['과실 및 채소 소매업','관광 민예품','수산물 소매업','빵 및 과자 소매업','육류 소매업'],'소매')"
   ]
  },
  {
   "cell_type": "code",
   "execution_count": 28,
   "id": "dc49e0da",
   "metadata": {},
   "outputs": [],
   "source": [
    "food1=df1[df1['업종명']=='피자, 햄버거, 샌드위치 및 유사 음식점업']\n",
    "food2=food1.append(df1[df1['업종명']== '기타 외국식 음식점업'])\n",
    "food3=food2.append(df1[df1['업종명']=='한식 음식점업'])\n",
    "food4=food3.append(df1[df1['업종명']=='중식 음식점업'])\n",
    "food5=food4.append(df1[df1['업종명']=='일식 음식점업'])\n",
    "food6=food5.append(df1[df1['업종명']=='서양식 음식점업'])\n",
    "foods=food6.append(df1[df1['업종명']=='비알콜 음료점업'])\n",
    "#foods.rename(columns={'이용자수':'음식점 이용자수'},inplace =True)\n",
    "Foods=foods.replace(['피자, 햄버거, 샌드위치 및 유사 음식점업','기타 외국식 음식점업','한식 음식점업','중식 음식점업','일식 음식점업','서양식 음식점업','비알콜 음료점업'],'식음료')"
   ]
  },
  {
   "cell_type": "code",
   "execution_count": 29,
   "id": "e40fef43",
   "metadata": {},
   "outputs": [],
   "source": [
    "hotel1=df1[df1['업종명']=='호텔업']\n",
    "hotel2=hotel1.append(df1[df1['업종명']== '여관업'])\n",
    "hotels=hotel2.append(df1[df1['업종명']=='휴양콘도 운영업'])\n",
    "#hotels.rename(columns={'이용자수':'숙박업 이용자수'},inplace =True)\n",
    "Hotels=hotels.replace(['호텔업','여관업','휴양콘도 운영업'],'숙박')"
   ]
  },
  {
   "cell_type": "code",
   "execution_count": 30,
   "id": "a5b8bddb",
   "metadata": {},
   "outputs": [],
   "source": [
    "culture1=df1[df1['업종명']=='스포츠 및 레크레이션 용품 임대업']\n",
    "cultures=culture1.append(df1[df1['업종명']=='기타 수상오락 서비스업'])\n",
    "#cultures.rename(columns={'이용자수':'스포츠/레져 이용자수'},inplace =True)\n",
    "Cultures=cultures.replace(['스포츠 및 레크레이션 용품 임대업','기타 수상오락 서비스업'],'문화/레져')"
   ]
  },
  {
   "cell_type": "code",
   "execution_count": 31,
   "id": "93de2da6",
   "metadata": {},
   "outputs": [],
   "source": [
    "shop1=df1[df1['업종명']== '화장품 및 방향제 소매업']\n",
    "shopping=shop1.append(df1[df1['업종명']=='면세점'])\n",
    "#shopping.rename(columns={'이용자수':'쇼핑 이용자수'},inplace =True)\n",
    "Shopping=shopping.replace(['화장품 및 방향제 소매업','면세점'],'쇼핑')"
   ]
  },
  {
   "cell_type": "code",
   "execution_count": 32,
   "id": "ad96e232",
   "metadata": {
    "scrolled": true
   },
   "outputs": [
    {
     "data": {
      "text/html": [
       "<div>\n",
       "<style scoped>\n",
       "    .dataframe tbody tr th:only-of-type {\n",
       "        vertical-align: middle;\n",
       "    }\n",
       "\n",
       "    .dataframe tbody tr th {\n",
       "        vertical-align: top;\n",
       "    }\n",
       "\n",
       "    .dataframe thead th {\n",
       "        text-align: right;\n",
       "    }\n",
       "</style>\n",
       "<table border=\"1\" class=\"dataframe\">\n",
       "  <thead>\n",
       "    <tr style=\"text-align: right;\">\n",
       "      <th></th>\n",
       "      <th>년월</th>\n",
       "      <th>시도명</th>\n",
       "      <th>읍면동명</th>\n",
       "      <th>업종명</th>\n",
       "      <th>이용자수</th>\n",
       "      <th>이용금액</th>\n",
       "      <th>총 유동인구</th>\n",
       "      <th>데이터기준일자</th>\n",
       "    </tr>\n",
       "  </thead>\n",
       "  <tbody>\n",
       "    <tr>\n",
       "      <th>2</th>\n",
       "      <td>20-Jan</td>\n",
       "      <td>서귀포시</td>\n",
       "      <td>남원읍</td>\n",
       "      <td>소매</td>\n",
       "      <td>3313</td>\n",
       "      <td>159828593</td>\n",
       "      <td>1.680200e+07</td>\n",
       "      <td>2020-12-15</td>\n",
       "    </tr>\n",
       "    <tr>\n",
       "      <th>29</th>\n",
       "      <td>20-Jan</td>\n",
       "      <td>서귀포시</td>\n",
       "      <td>대륜동</td>\n",
       "      <td>소매</td>\n",
       "      <td>645</td>\n",
       "      <td>122247500</td>\n",
       "      <td>1.683050e+07</td>\n",
       "      <td>2020-12-15</td>\n",
       "    </tr>\n",
       "    <tr>\n",
       "      <th>57</th>\n",
       "      <td>20-Jan</td>\n",
       "      <td>서귀포시</td>\n",
       "      <td>대정읍</td>\n",
       "      <td>소매</td>\n",
       "      <td>461</td>\n",
       "      <td>44083700</td>\n",
       "      <td>1.847608e+07</td>\n",
       "      <td>2020-12-15</td>\n",
       "    </tr>\n",
       "    <tr>\n",
       "      <th>85</th>\n",
       "      <td>20-Jan</td>\n",
       "      <td>서귀포시</td>\n",
       "      <td>대천동</td>\n",
       "      <td>소매</td>\n",
       "      <td>333</td>\n",
       "      <td>70682700</td>\n",
       "      <td>9.737936e+06</td>\n",
       "      <td>2020-12-15</td>\n",
       "    </tr>\n",
       "    <tr>\n",
       "      <th>110</th>\n",
       "      <td>20-Jan</td>\n",
       "      <td>서귀포시</td>\n",
       "      <td>동홍동</td>\n",
       "      <td>소매</td>\n",
       "      <td>933</td>\n",
       "      <td>99842750</td>\n",
       "      <td>1.977041e+07</td>\n",
       "      <td>2020-12-15</td>\n",
       "    </tr>\n",
       "    <tr>\n",
       "      <th>...</th>\n",
       "      <td>...</td>\n",
       "      <td>...</td>\n",
       "      <td>...</td>\n",
       "      <td>...</td>\n",
       "      <td>...</td>\n",
       "      <td>...</td>\n",
       "      <td>...</td>\n",
       "      <td>...</td>\n",
       "    </tr>\n",
       "    <tr>\n",
       "      <th>12870</th>\n",
       "      <td>20-Nov</td>\n",
       "      <td>서귀포시</td>\n",
       "      <td>천지동</td>\n",
       "      <td>문화/레져</td>\n",
       "      <td>1</td>\n",
       "      <td>140000</td>\n",
       "      <td>9.469863e+06</td>\n",
       "      <td>2021-07-28</td>\n",
       "    </tr>\n",
       "    <tr>\n",
       "      <th>13006</th>\n",
       "      <td>20-Dec</td>\n",
       "      <td>제주시</td>\n",
       "      <td>용담1동</td>\n",
       "      <td>문화/레져</td>\n",
       "      <td>25</td>\n",
       "      <td>4389000</td>\n",
       "      <td>7.876889e+06</td>\n",
       "      <td>2021-07-28</td>\n",
       "    </tr>\n",
       "    <tr>\n",
       "      <th>13192</th>\n",
       "      <td>20-Dec</td>\n",
       "      <td>제주시</td>\n",
       "      <td>한경면</td>\n",
       "      <td>문화/레져</td>\n",
       "      <td>52</td>\n",
       "      <td>1287700</td>\n",
       "      <td>8.326804e+06</td>\n",
       "      <td>2021-07-28</td>\n",
       "    </tr>\n",
       "    <tr>\n",
       "      <th>13222</th>\n",
       "      <td>20-Dec</td>\n",
       "      <td>제주시</td>\n",
       "      <td>조천읍</td>\n",
       "      <td>문화/레져</td>\n",
       "      <td>78</td>\n",
       "      <td>3376200</td>\n",
       "      <td>2.454740e+07</td>\n",
       "      <td>2021-07-28</td>\n",
       "    </tr>\n",
       "    <tr>\n",
       "      <th>13526</th>\n",
       "      <td>20-Dec</td>\n",
       "      <td>서귀포시</td>\n",
       "      <td>성산읍</td>\n",
       "      <td>문화/레져</td>\n",
       "      <td>8</td>\n",
       "      <td>1771250</td>\n",
       "      <td>1.629789e+07</td>\n",
       "      <td>2021-07-28</td>\n",
       "    </tr>\n",
       "  </tbody>\n",
       "</table>\n",
       "<p>6995 rows × 8 columns</p>\n",
       "</div>"
      ],
      "text/plain": [
       "           년월   시도명  읍면동명    업종명  이용자수       이용금액        총 유동인구     데이터기준일자\n",
       "2      20-Jan  서귀포시   남원읍     소매  3313  159828593  1.680200e+07  2020-12-15\n",
       "29     20-Jan  서귀포시   대륜동     소매   645  122247500  1.683050e+07  2020-12-15\n",
       "57     20-Jan  서귀포시   대정읍     소매   461   44083700  1.847608e+07  2020-12-15\n",
       "85     20-Jan  서귀포시   대천동     소매   333   70682700  9.737936e+06  2020-12-15\n",
       "110    20-Jan  서귀포시   동홍동     소매   933   99842750  1.977041e+07  2020-12-15\n",
       "...       ...   ...   ...    ...   ...        ...           ...         ...\n",
       "12870  20-Nov  서귀포시   천지동  문화/레져     1     140000  9.469863e+06  2021-07-28\n",
       "13006  20-Dec   제주시  용담1동  문화/레져    25    4389000  7.876889e+06  2021-07-28\n",
       "13192  20-Dec   제주시   한경면  문화/레져    52    1287700  8.326804e+06  2021-07-28\n",
       "13222  20-Dec   제주시   조천읍  문화/레져    78    3376200  2.454740e+07  2021-07-28\n",
       "13526  20-Dec  서귀포시   성산읍  문화/레져     8    1771250  1.629789e+07  2021-07-28\n",
       "\n",
       "[6995 rows x 8 columns]"
      ]
     },
     "execution_count": 32,
     "metadata": {},
     "output_type": "execute_result"
    }
   ],
   "source": [
    "sum1=Sales\n",
    "sum2=sum1.append(Foods)\n",
    "sum3=sum2.append(Hotels)\n",
    "sum4=sum3.append(Shopping)\n",
    "total=sum4.append(Cultures)\n",
    "total"
   ]
  },
  {
   "cell_type": "code",
   "execution_count": 33,
   "id": "b8ca06cb",
   "metadata": {},
   "outputs": [
    {
     "data": {
      "text/plain": [
       "array(['소매', '식음료', '숙박', '쇼핑', '문화/레져'], dtype=object)"
      ]
     },
     "execution_count": 33,
     "metadata": {},
     "output_type": "execute_result"
    }
   ],
   "source": [
    "total['업종명'].unique()"
   ]
  },
  {
   "cell_type": "code",
   "execution_count": 34,
   "id": "cdbbcfc3",
   "metadata": {},
   "outputs": [
    {
     "data": {
      "text/html": [
       "<div>\n",
       "<style scoped>\n",
       "    .dataframe tbody tr th:only-of-type {\n",
       "        vertical-align: middle;\n",
       "    }\n",
       "\n",
       "    .dataframe tbody tr th {\n",
       "        vertical-align: top;\n",
       "    }\n",
       "\n",
       "    .dataframe thead th {\n",
       "        text-align: right;\n",
       "    }\n",
       "</style>\n",
       "<table border=\"1\" class=\"dataframe\">\n",
       "  <thead>\n",
       "    <tr style=\"text-align: right;\">\n",
       "      <th></th>\n",
       "      <th>이용자수</th>\n",
       "    </tr>\n",
       "    <tr>\n",
       "      <th>읍면동명</th>\n",
       "      <th></th>\n",
       "    </tr>\n",
       "  </thead>\n",
       "  <tbody>\n",
       "    <tr>\n",
       "      <th>일도1동</th>\n",
       "      <td>86754</td>\n",
       "    </tr>\n",
       "    <tr>\n",
       "      <th>송산동</th>\n",
       "      <td>49830</td>\n",
       "    </tr>\n",
       "    <tr>\n",
       "      <th>연동</th>\n",
       "      <td>45576</td>\n",
       "    </tr>\n",
       "    <tr>\n",
       "      <th>천지동</th>\n",
       "      <td>34831</td>\n",
       "    </tr>\n",
       "    <tr>\n",
       "      <th>정방동</th>\n",
       "      <td>34746</td>\n",
       "    </tr>\n",
       "  </tbody>\n",
       "</table>\n",
       "</div>"
      ],
      "text/plain": [
       "       이용자수\n",
       "읍면동명       \n",
       "일도1동  86754\n",
       "송산동   49830\n",
       "연동    45576\n",
       "천지동   34831\n",
       "정방동   34746"
      ]
     },
     "execution_count": 34,
     "metadata": {},
     "output_type": "execute_result"
    }
   ],
   "source": [
    "adata=total.sort_values('이용자수')\n",
    "ad=adata[adata['업종명']=='문화/레져']\n",
    "data1=pd.DataFrame(ad['이용자수'].groupby(ad['읍면동명']).sum())\n",
    "upera=data1.sort_values(by='이용자수', ascending=False).groupby('읍면동명').head(5)\n",
    "upera=upera[:5]\n",
    "upera"
   ]
  },
  {
   "cell_type": "code",
   "execution_count": 35,
   "id": "0bb66ae3",
   "metadata": {},
   "outputs": [],
   "source": [
    "upera.to_csv('Adata.csv',index=True)"
   ]
  },
  {
   "cell_type": "code",
   "execution_count": 36,
   "id": "285c0462",
   "metadata": {},
   "outputs": [
    {
     "data": {
      "text/html": [
       "<div>\n",
       "<style scoped>\n",
       "    .dataframe tbody tr th:only-of-type {\n",
       "        vertical-align: middle;\n",
       "    }\n",
       "\n",
       "    .dataframe tbody tr th {\n",
       "        vertical-align: top;\n",
       "    }\n",
       "\n",
       "    .dataframe thead th {\n",
       "        text-align: right;\n",
       "    }\n",
       "</style>\n",
       "<table border=\"1\" class=\"dataframe\">\n",
       "  <thead>\n",
       "    <tr style=\"text-align: right;\">\n",
       "      <th></th>\n",
       "      <th>이용자수</th>\n",
       "    </tr>\n",
       "    <tr>\n",
       "      <th>읍면동명</th>\n",
       "      <th></th>\n",
       "    </tr>\n",
       "  </thead>\n",
       "  <tbody>\n",
       "    <tr>\n",
       "      <th>송산동</th>\n",
       "      <td>188151</td>\n",
       "    </tr>\n",
       "    <tr>\n",
       "      <th>천지동</th>\n",
       "      <td>151213</td>\n",
       "    </tr>\n",
       "    <tr>\n",
       "      <th>정방동</th>\n",
       "      <td>149947</td>\n",
       "    </tr>\n",
       "    <tr>\n",
       "      <th>중앙동</th>\n",
       "      <td>149947</td>\n",
       "    </tr>\n",
       "    <tr>\n",
       "      <th>일도1동</th>\n",
       "      <td>126786</td>\n",
       "    </tr>\n",
       "  </tbody>\n",
       "</table>\n",
       "</div>"
      ],
      "text/plain": [
       "        이용자수\n",
       "읍면동명        \n",
       "송산동   188151\n",
       "천지동   151213\n",
       "정방동   149947\n",
       "중앙동   149947\n",
       "일도1동  126786"
      ]
     },
     "execution_count": 36,
     "metadata": {},
     "output_type": "execute_result"
    }
   ],
   "source": [
    "bdata=total.sort_values('이용자수')\n",
    "bd=adata[bdata['업종명']=='소매']\n",
    "data2=pd.DataFrame(bd['이용자수'].groupby(bd['읍면동명']).sum())\n",
    "uperb=data2.sort_values(by='이용자수', ascending=False).groupby('읍면동명').head(5)\n",
    "uperb=uperb[:5]\n",
    "uperb"
   ]
  },
  {
   "cell_type": "code",
   "execution_count": 37,
   "id": "fbe437af",
   "metadata": {},
   "outputs": [],
   "source": [
    "uperb.to_csv('Bdata.csv',index=True)"
   ]
  },
  {
   "cell_type": "code",
   "execution_count": 38,
   "id": "3822c791",
   "metadata": {},
   "outputs": [
    {
     "data": {
      "text/html": [
       "<div>\n",
       "<style scoped>\n",
       "    .dataframe tbody tr th:only-of-type {\n",
       "        vertical-align: middle;\n",
       "    }\n",
       "\n",
       "    .dataframe tbody tr th {\n",
       "        vertical-align: top;\n",
       "    }\n",
       "\n",
       "    .dataframe thead th {\n",
       "        text-align: right;\n",
       "    }\n",
       "</style>\n",
       "<table border=\"1\" class=\"dataframe\">\n",
       "  <thead>\n",
       "    <tr style=\"text-align: right;\">\n",
       "      <th></th>\n",
       "      <th>이용자수</th>\n",
       "    </tr>\n",
       "    <tr>\n",
       "      <th>읍면동명</th>\n",
       "      <th></th>\n",
       "    </tr>\n",
       "  </thead>\n",
       "  <tbody>\n",
       "    <tr>\n",
       "      <th>용담2동</th>\n",
       "      <td>726534</td>\n",
       "    </tr>\n",
       "    <tr>\n",
       "      <th>연동</th>\n",
       "      <td>27922</td>\n",
       "    </tr>\n",
       "    <tr>\n",
       "      <th>중문동</th>\n",
       "      <td>26806</td>\n",
       "    </tr>\n",
       "    <tr>\n",
       "      <th>안덕면</th>\n",
       "      <td>22394</td>\n",
       "    </tr>\n",
       "    <tr>\n",
       "      <th>이도2동</th>\n",
       "      <td>18305</td>\n",
       "    </tr>\n",
       "  </tbody>\n",
       "</table>\n",
       "</div>"
      ],
      "text/plain": [
       "        이용자수\n",
       "읍면동명        \n",
       "용담2동  726534\n",
       "연동     27922\n",
       "중문동    26806\n",
       "안덕면    22394\n",
       "이도2동   18305"
      ]
     },
     "execution_count": 38,
     "metadata": {},
     "output_type": "execute_result"
    }
   ],
   "source": [
    "cdata=total.sort_values('이용자수')\n",
    "cd=cdata[cdata['업종명']=='쇼핑']\n",
    "data3=pd.DataFrame(cd['이용자수'].groupby(cd['읍면동명']).sum())\n",
    "uperc=data3.sort_values(by='이용자수', ascending=False).groupby('읍면동명').head(5)\n",
    "uperc=uperc[:5]\n",
    "uperc"
   ]
  },
  {
   "cell_type": "code",
   "execution_count": 39,
   "id": "52ee5a23",
   "metadata": {},
   "outputs": [],
   "source": [
    "uperc.to_csv('Cdata.csv',index=True)"
   ]
  },
  {
   "cell_type": "code",
   "execution_count": 40,
   "id": "e9747f76",
   "metadata": {},
   "outputs": [
    {
     "data": {
      "text/html": [
       "<div>\n",
       "<style scoped>\n",
       "    .dataframe tbody tr th:only-of-type {\n",
       "        vertical-align: middle;\n",
       "    }\n",
       "\n",
       "    .dataframe tbody tr th {\n",
       "        vertical-align: top;\n",
       "    }\n",
       "\n",
       "    .dataframe thead th {\n",
       "        text-align: right;\n",
       "    }\n",
       "</style>\n",
       "<table border=\"1\" class=\"dataframe\">\n",
       "  <thead>\n",
       "    <tr style=\"text-align: right;\">\n",
       "      <th></th>\n",
       "      <th>이용자수</th>\n",
       "    </tr>\n",
       "    <tr>\n",
       "      <th>읍면동명</th>\n",
       "      <th></th>\n",
       "    </tr>\n",
       "  </thead>\n",
       "  <tbody>\n",
       "    <tr>\n",
       "      <th>연동</th>\n",
       "      <td>78211</td>\n",
       "    </tr>\n",
       "    <tr>\n",
       "      <th>예래동</th>\n",
       "      <td>63964</td>\n",
       "    </tr>\n",
       "    <tr>\n",
       "      <th>안덕면</th>\n",
       "      <td>57322</td>\n",
       "    </tr>\n",
       "    <tr>\n",
       "      <th>송산동</th>\n",
       "      <td>47826</td>\n",
       "    </tr>\n",
       "    <tr>\n",
       "      <th>남원읍</th>\n",
       "      <td>40814</td>\n",
       "    </tr>\n",
       "  </tbody>\n",
       "</table>\n",
       "</div>"
      ],
      "text/plain": [
       "       이용자수\n",
       "읍면동명       \n",
       "연동    78211\n",
       "예래동   63964\n",
       "안덕면   57322\n",
       "송산동   47826\n",
       "남원읍   40814"
      ]
     },
     "execution_count": 40,
     "metadata": {},
     "output_type": "execute_result"
    }
   ],
   "source": [
    "ddata=total.sort_values('이용자수')\n",
    "dd=ddata[ddata['업종명']=='숙박']\n",
    "data4=pd.DataFrame(dd['이용자수'].groupby(dd['읍면동명']).sum())\n",
    "uperd=data4.sort_values(by='이용자수', ascending=False).groupby('읍면동명').head(5)\n",
    "uperd=uperd[:5]\n",
    "uperd"
   ]
  },
  {
   "cell_type": "code",
   "execution_count": 41,
   "id": "f22e3fa9",
   "metadata": {},
   "outputs": [],
   "source": [
    "uperd.to_csv('Ddata.csv',index=True)"
   ]
  },
  {
   "cell_type": "code",
   "execution_count": 42,
   "id": "8c57e9a6",
   "metadata": {},
   "outputs": [
    {
     "data": {
      "text/html": [
       "<div>\n",
       "<style scoped>\n",
       "    .dataframe tbody tr th:only-of-type {\n",
       "        vertical-align: middle;\n",
       "    }\n",
       "\n",
       "    .dataframe tbody tr th {\n",
       "        vertical-align: top;\n",
       "    }\n",
       "\n",
       "    .dataframe thead th {\n",
       "        text-align: right;\n",
       "    }\n",
       "</style>\n",
       "<table border=\"1\" class=\"dataframe\">\n",
       "  <thead>\n",
       "    <tr style=\"text-align: right;\">\n",
       "      <th></th>\n",
       "      <th>이용자수</th>\n",
       "    </tr>\n",
       "    <tr>\n",
       "      <th>읍면동명</th>\n",
       "      <th></th>\n",
       "    </tr>\n",
       "  </thead>\n",
       "  <tbody>\n",
       "    <tr>\n",
       "      <th>노형동</th>\n",
       "      <td>1536254</td>\n",
       "    </tr>\n",
       "    <tr>\n",
       "      <th>이도2동</th>\n",
       "      <td>1490730</td>\n",
       "    </tr>\n",
       "    <tr>\n",
       "      <th>연동</th>\n",
       "      <td>1252690</td>\n",
       "    </tr>\n",
       "    <tr>\n",
       "      <th>송산동</th>\n",
       "      <td>1112682</td>\n",
       "    </tr>\n",
       "    <tr>\n",
       "      <th>천지동</th>\n",
       "      <td>830899</td>\n",
       "    </tr>\n",
       "  </tbody>\n",
       "</table>\n",
       "</div>"
      ],
      "text/plain": [
       "         이용자수\n",
       "읍면동명         \n",
       "노형동   1536254\n",
       "이도2동  1490730\n",
       "연동    1252690\n",
       "송산동   1112682\n",
       "천지동    830899"
      ]
     },
     "execution_count": 42,
     "metadata": {},
     "output_type": "execute_result"
    }
   ],
   "source": [
    "edata=total.sort_values('이용자수')\n",
    "ed=edata[edata['업종명']=='식음료']\n",
    "data5=pd.DataFrame(ed['이용자수'].groupby(ed['읍면동명']).sum())\n",
    "upere=data5.sort_values(by='이용자수', ascending=False).groupby('읍면동명').head(5)\n",
    "upere=upere[:5]\n",
    "upere"
   ]
  },
  {
   "cell_type": "code",
   "execution_count": 43,
   "id": "f2362fc7",
   "metadata": {},
   "outputs": [],
   "source": [
    "upere.to_csv('Edata.csv',index=True)"
   ]
  },
  {
   "cell_type": "code",
   "execution_count": 46,
   "id": "abc4d99a",
   "metadata": {},
   "outputs": [
    {
     "data": {
      "text/plain": [
       "<matplotlib.legend.Legend at 0x29fdd7bda30>"
      ]
     },
     "execution_count": 46,
     "metadata": {},
     "output_type": "execute_result"
    },
    {
     "data": {
      "image/png": "[encoded data removed]",
      "text/plain": [
       "<Figure size 864x288 with 1 Axes>"
      ]
     },
     "metadata": {
      "needs_background": "light"
     },
     "output_type": "display_data"
    },
    {
     "data": {
      "image/png": "[encoded data removed]",
      "text/plain": [
       "<Figure size 864x288 with 1 Axes>"
      ]
     },
     "metadata": {
      "needs_background": "light"
     },
     "output_type": "display_data"
    },
    {
     "data": {
      "image/png": "[encoded data removed]",
      "text/plain": [
       "<Figure size 864x288 with 1 Axes>"
      ]
     },
     "metadata": {
      "needs_background": "light"
     },
     "output_type": "display_data"
    },
    {
     "data": {
      "image/png": "[encoded data removed]",
      "text/plain": [
       "<Figure size 864x288 with 1 Axes>"
      ]
     },
     "metadata": {
      "needs_background": "light"
     },
     "output_type": "display_data"
    },
    {
     "data": {
      "image/png": "[encoded data removed]",
      "text/plain": [
       "<Figure size 864x288 with 1 Axes>"
      ]
     },
     "metadata": {
      "needs_background": "light"
     },
     "output_type": "display_data"
    }
   ],
   "source": [
    "font_name = mpl.font_manager.FontProperties(fname='C:/Windows/Fonts/malgun.ttf').get_name()\n",
    "mpl.rc('font', family=font_name)\n",
    " \n",
    "ax = upere.plot(kind='bar', title='문화/레져', figsize=(12, 4), legend=True, fontsize=20)\n",
    "ax.set_xlabel('읍면동명', fontsize=20)          \n",
    "ax.set_ylabel('이용자수', fontsize=20)     \n",
    "ax.legend(['이용자수'], fontsize=20)    \n",
    "\n",
    "bx = uperb.plot(kind='bar', title='소매', figsize=(12, 4), legend=True, fontsize=20)\n",
    "bx.set_xlabel('읍면동명', fontsize=20)          \n",
    "bx.set_ylabel('이용자수', fontsize=20)     \n",
    "bx.legend(['이용자수'], fontsize=20)\n",
    "\n",
    "cx = uperc.plot(kind='bar', title='쇼핑', figsize=(12, 4), legend=True, fontsize=20)\n",
    "cx.set_xlabel('읍면동명', fontsize=20)          \n",
    "cx.set_ylabel('이용자수', fontsize=20)     \n",
    "cx.legend(['이용자수'], fontsize=20)\n",
    "\n",
    "dx = uperd.plot(kind='bar', title='숙박', figsize=(12, 4), legend=True, fontsize=20)\n",
    "dx.set_xlabel('읍면동명', fontsize=20)          \n",
    "dx.set_ylabel('이용자수', fontsize=20)     \n",
    "dx.legend(['이용자수'], fontsize=20)\n",
    "\n",
    "ex = upere.plot(kind='bar', title='식음료', figsize=(12, 4), legend=True, fontsize=20)\n",
    "ex.set_xlabel('읍면동명', fontsize=20)          \n",
    "ex.set_ylabel('이용자수', fontsize=20)     \n",
    "ex.legend(['이용자수'], fontsize=20)"
   ]
  },
  {
   "cell_type": "code",
   "execution_count": null,
   "id": "aadbaaba",
   "metadata": {},
   "outputs": [],
   "source": []
  },
  {
   "cell_type": "code",
   "execution_count": null,
   "id": "5104b484",
   "metadata": {},
   "outputs": [],
   "source": []
  },
  {
   "cell_type": "code",
   "execution_count": null,
   "id": "eaaf895c",
   "metadata": {},
   "outputs": [],
   "source": []
  }
 ],
 "metadata": {
  "kernelspec": {
   "display_name": "Python 3",
   "language": "python",
   "name": "python3"
  },
  "language_info": {
   "codemirror_mode": {
    "name": "ipython",
    "version": 3
   },
   "file_extension": ".py",
   "mimetype": "text/x-python",
   "name": "python",
   "nbconvert_exporter": "python",
   "pygments_lexer": "ipython3",
   "version": "3.8.8"
  }
 },
 "nbformat": 4,
 "nbformat_minor": 5
}
